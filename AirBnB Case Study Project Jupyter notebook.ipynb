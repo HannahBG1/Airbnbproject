{
 "cells": [
  {
   "cell_type": "markdown",
   "metadata": {},
   "source": [
    "# AirBnB NY Locations Data Case Study\n",
    "\n",
    "In this final project, you task will be to take the data provided and find evidance to answer the following questions.\n",
    "\n",
    "1. Which hosts are the busiest and why?\n",
    "2. How many neighborhood groups are available and which shows up the most?\n",
    "3. Are private rooms the most popular in manhattan?\n",
    "4. Which hosts are the busiest and based on their reviews?\n",
    "5. Which neighorhood group has the highest average price?\n",
    "6. Which neighborhood group has the highest total price?\n",
    "7. Which top 5 hosts have the highest total price?\n",
    "8. Who currently has no (zero) availability with a review count of 100 or more?\n",
    "9. What host has the highest total of prices and where are they located?\n",
    "10. When did Danielle from Queens last receive a review?\n",
    "\n",
    "You will be given **4 hours** to complete this assignment. \n",
    "**Be Advised** I will go dark for this intire assignment time period. That said, any questions that you would like to ask about the data, or the project **MUST** be asked before the time starts. Once the time has started, I can no longer give information.\n",
    "\n",
    "This is to similate what you will face when you are out in the wild. \n",
    "\n",
    "Happy Coding!"
   ]
  },
  {
   "cell_type": "code",
   "execution_count": 2,
   "metadata": {},
   "outputs": [],
   "source": [
    "import numpy as np\n",
    "import pandas as pd\n",
    "import matplotlib.pyplot as plt"
   ]
  },
  {
   "cell_type": "code",
   "execution_count": 4,
   "metadata": {},
   "outputs": [
    {
     "data": {
      "text/html": [
       "<div>\n",
       "<style scoped>\n",
       "    .dataframe tbody tr th:only-of-type {\n",
       "        vertical-align: middle;\n",
       "    }\n",
       "\n",
       "    .dataframe tbody tr th {\n",
       "        vertical-align: top;\n",
       "    }\n",
       "\n",
       "    .dataframe thead th {\n",
       "        text-align: right;\n",
       "    }\n",
       "</style>\n",
       "<table border=\"1\" class=\"dataframe\">\n",
       "  <thead>\n",
       "    <tr style=\"text-align: right;\">\n",
       "      <th></th>\n",
       "      <th>id</th>\n",
       "      <th>name</th>\n",
       "      <th>host_id</th>\n",
       "      <th>host_name</th>\n",
       "      <th>neighbourhood_group</th>\n",
       "      <th>neighbourhood</th>\n",
       "      <th>latitude</th>\n",
       "      <th>longitude</th>\n",
       "      <th>room_type</th>\n",
       "      <th>price</th>\n",
       "      <th>minimum_nights</th>\n",
       "      <th>number_of_reviews</th>\n",
       "      <th>last_review</th>\n",
       "      <th>reviews_per_month</th>\n",
       "      <th>calculated_host_listings_count</th>\n",
       "      <th>availability_365</th>\n",
       "    </tr>\n",
       "  </thead>\n",
       "  <tbody>\n",
       "    <tr>\n",
       "      <th>0</th>\n",
       "      <td>2539</td>\n",
       "      <td>Clean &amp; quiet apt home by the park</td>\n",
       "      <td>2787</td>\n",
       "      <td>John</td>\n",
       "      <td>Brooklyn</td>\n",
       "      <td>Kensington</td>\n",
       "      <td>40.64749</td>\n",
       "      <td>-73.97237</td>\n",
       "      <td>Private room</td>\n",
       "      <td>149</td>\n",
       "      <td>1</td>\n",
       "      <td>9</td>\n",
       "      <td>2018-10-19</td>\n",
       "      <td>0.21</td>\n",
       "      <td>6</td>\n",
       "      <td>365</td>\n",
       "    </tr>\n",
       "    <tr>\n",
       "      <th>1</th>\n",
       "      <td>2595</td>\n",
       "      <td>Skylit Midtown Castle</td>\n",
       "      <td>2845</td>\n",
       "      <td>Jennifer</td>\n",
       "      <td>Manhattan</td>\n",
       "      <td>Midtown</td>\n",
       "      <td>40.75362</td>\n",
       "      <td>-73.98377</td>\n",
       "      <td>Entire home/apt</td>\n",
       "      <td>225</td>\n",
       "      <td>1</td>\n",
       "      <td>45</td>\n",
       "      <td>2019-05-21</td>\n",
       "      <td>0.38</td>\n",
       "      <td>2</td>\n",
       "      <td>355</td>\n",
       "    </tr>\n",
       "    <tr>\n",
       "      <th>2</th>\n",
       "      <td>3647</td>\n",
       "      <td>THE VILLAGE OF HARLEM....NEW YORK !</td>\n",
       "      <td>4632</td>\n",
       "      <td>Elisabeth</td>\n",
       "      <td>Manhattan</td>\n",
       "      <td>Harlem</td>\n",
       "      <td>40.80902</td>\n",
       "      <td>-73.94190</td>\n",
       "      <td>Private room</td>\n",
       "      <td>150</td>\n",
       "      <td>3</td>\n",
       "      <td>0</td>\n",
       "      <td>NaN</td>\n",
       "      <td>NaN</td>\n",
       "      <td>1</td>\n",
       "      <td>365</td>\n",
       "    </tr>\n",
       "    <tr>\n",
       "      <th>3</th>\n",
       "      <td>3831</td>\n",
       "      <td>Cozy Entire Floor of Brownstone</td>\n",
       "      <td>4869</td>\n",
       "      <td>LisaRoxanne</td>\n",
       "      <td>Brooklyn</td>\n",
       "      <td>Clinton Hill</td>\n",
       "      <td>40.68514</td>\n",
       "      <td>-73.95976</td>\n",
       "      <td>Entire home/apt</td>\n",
       "      <td>89</td>\n",
       "      <td>1</td>\n",
       "      <td>270</td>\n",
       "      <td>2019-07-05</td>\n",
       "      <td>4.64</td>\n",
       "      <td>1</td>\n",
       "      <td>194</td>\n",
       "    </tr>\n",
       "    <tr>\n",
       "      <th>4</th>\n",
       "      <td>5022</td>\n",
       "      <td>Entire Apt: Spacious Studio/Loft by central park</td>\n",
       "      <td>7192</td>\n",
       "      <td>Laura</td>\n",
       "      <td>Manhattan</td>\n",
       "      <td>East Harlem</td>\n",
       "      <td>40.79851</td>\n",
       "      <td>-73.94399</td>\n",
       "      <td>Entire home/apt</td>\n",
       "      <td>80</td>\n",
       "      <td>10</td>\n",
       "      <td>9</td>\n",
       "      <td>2018-11-19</td>\n",
       "      <td>0.10</td>\n",
       "      <td>1</td>\n",
       "      <td>0</td>\n",
       "    </tr>\n",
       "  </tbody>\n",
       "</table>\n",
       "</div>"
      ],
      "text/plain": [
       "     id                                              name  host_id  \\\n",
       "0  2539                Clean & quiet apt home by the park     2787   \n",
       "1  2595                             Skylit Midtown Castle     2845   \n",
       "2  3647               THE VILLAGE OF HARLEM....NEW YORK !     4632   \n",
       "3  3831                   Cozy Entire Floor of Brownstone     4869   \n",
       "4  5022  Entire Apt: Spacious Studio/Loft by central park     7192   \n",
       "\n",
       "     host_name neighbourhood_group neighbourhood  latitude  longitude  \\\n",
       "0         John            Brooklyn    Kensington  40.64749  -73.97237   \n",
       "1     Jennifer           Manhattan       Midtown  40.75362  -73.98377   \n",
       "2    Elisabeth           Manhattan        Harlem  40.80902  -73.94190   \n",
       "3  LisaRoxanne            Brooklyn  Clinton Hill  40.68514  -73.95976   \n",
       "4        Laura           Manhattan   East Harlem  40.79851  -73.94399   \n",
       "\n",
       "         room_type  price  minimum_nights  number_of_reviews last_review  \\\n",
       "0     Private room    149               1                  9  2018-10-19   \n",
       "1  Entire home/apt    225               1                 45  2019-05-21   \n",
       "2     Private room    150               3                  0         NaN   \n",
       "3  Entire home/apt     89               1                270  2019-07-05   \n",
       "4  Entire home/apt     80              10                  9  2018-11-19   \n",
       "\n",
       "   reviews_per_month  calculated_host_listings_count  availability_365  \n",
       "0               0.21                               6               365  \n",
       "1               0.38                               2               355  \n",
       "2                NaN                               1               365  \n",
       "3               4.64                               1               194  \n",
       "4               0.10                               1                 0  "
      ]
     },
     "execution_count": 4,
     "metadata": {},
     "output_type": "execute_result"
    }
   ],
   "source": [
    "air_bnb = pd.read_csv('../Downloads/AB_NYC_2019.csv', sep = ',')\n",
    "air_bnb.head()"
   ]
  },
  {
   "cell_type": "code",
   "execution_count": 7,
   "metadata": {},
   "outputs": [
    {
     "name": "stdout",
     "output_type": "stream",
     "text": [
      "Number of neighbourhood groups: 5\n",
      "Neighbourhood group  that shows up the most: Manhattan\n"
     ]
    }
   ],
   "source": [
    "# How many neighbourhood groups are available and which shows up the most?\n",
    "air_bnb = pd.read_csv('../Downloads/AB_NYC_2019.csv', sep = ',')\n",
    "air_bnb.head()\n",
    "\n",
    "neighbourhood_group_counts = air_bnb['neighbourhood_group'].value_counts()\n",
    "\n",
    "print(\"Number of neighbourhood groups:\", len(neighbourhood_group_counts))\n",
    "\n",
    "most_common_neighbourhood_group = neighbourhood_group_counts.idxmax()\n",
    "print(\"Neighbourhood group  that shows up the most:\", most_common_neighbourhood_group)\n"
   ]
  },
  {
   "cell_type": "code",
   "execution_count": 9,
   "metadata": {},
   "outputs": [
    {
     "name": "stdout",
     "output_type": "stream",
     "text": [
      "Private rooms are not the most popular in Manhattan.\n"
     ]
    }
   ],
   "source": [
    "# Are private rooms the most popular in manhattan?\n",
    "air_bnb = pd.read_csv('../Downloads/AB_NYC_2019.csv', sep=',')\n",
    "\n",
    "manhattan_listings = air_bnb[air_bnb['neighbourhood_group'] == 'Manhattan']\n",
    "\n",
    "room_type_counts = manhattan_listings['room_type'].value_counts()\n",
    "\n",
    "if room_type_counts.idxmax() == 'Private room':\n",
    "    print(\"Private rooms are the most popular in Manhattan.\")\n",
    "else:\n",
    "    print(\"Private rooms are not the most popular in Manhattan.\")"
   ]
  },
  {
   "cell_type": "code",
   "execution_count": 10,
   "metadata": {},
   "outputs": [
    {
     "name": "stdout",
     "output_type": "stream",
     "text": [
      "The busiest host is:\n",
      "Host ID: 37312959\n",
      "Host Name: Maya\n",
      "Total Number of Reviews: 2273\n"
     ]
    }
   ],
   "source": [
    "# Which hosts are the busiest and based on their reviews?\n",
    "\n",
    "air_bnb = pd.read_csv('../Downloads/AB_NYC_2019.csv', sep=',')\n",
    "\n",
    "host_reviews = air_bnb.groupby('host_id')['number_of_reviews'].sum()\n",
    "\n",
    "busiest_host_id = host_reviews.idxmax()\n",
    "busiest_host_reviews = host_reviews.max()\n",
    "\n",
    "busiest_host_info = air_bnb[air_bnb['host_id'] == busiest_host_id].iloc[0]\n",
    "\n",
    "print(\"The busiest host is:\")\n",
    "print(\"Host ID:\", busiest_host_id)\n",
    "print(\"Host Name:\", busiest_host_info['host_name'])\n",
    "print(\"Total Number of Reviews:\", busiest_host_reviews)"
   ]
  },
  {
   "cell_type": "code",
   "execution_count": 11,
   "metadata": {},
   "outputs": [
    {
     "name": "stdout",
     "output_type": "stream",
     "text": [
      "Neighborhood group with the highest average price is: Manhattan\n",
      "Average price in this group: 196.8758136743456\n"
     ]
    }
   ],
   "source": [
    "#Which neighorhood group has the highest average price?\n",
    "air_bnb = pd.read_csv('../Downloads/AB_NYC_2019.csv', sep=',')\n",
    "\n",
    "air_bnb = pd.read_csv('../Downloads/AB_NYC_2019.csv', sep=',')\n",
    "\n",
    "neighborhood_group_prices = air_bnb.groupby('neighbourhood_group')['price'].mean()\n",
    "\n",
    "highest_avg_price_group = neighborhood_group_prices.idxmax()\n",
    "highest_avg_price = neighborhood_group_prices.max()\n",
    "\n",
    "print(\"Neighborhood group with the highest average price is:\", highest_avg_price_group)\n",
    "print(\"Average price in this group:\", highest_avg_price)"
   ]
  },
  {
   "cell_type": "code",
   "execution_count": 12,
   "metadata": {},
   "outputs": [
    {
     "name": "stdout",
     "output_type": "stream",
     "text": [
      "Neighborhood group with the highest total price is: Manhattan\n",
      "Total price in this group: 4264527\n"
     ]
    }
   ],
   "source": [
    "# Which neighbor hood group has the highest total price?\n",
    "air_bnb = pd.read_csv('../Downloads/AB_NYC_2019.csv', sep=',')\n",
    "\n",
    "neighborhood_group_total_prices = air_bnb.groupby('neighbourhood_group')['price'].sum()\n",
    "\n",
    "highest_total_price_group = neighborhood_group_total_prices.idxmax()\n",
    "highest_total_price = neighborhood_group_total_prices.max()\n",
    "\n",
    "\n",
    "print(\"Neighborhood group with the highest total price is:\", highest_total_price_group)\n",
    "print(\"Total price in this group:\", highest_total_price)"
   ]
  },
  {
   "cell_type": "code",
   "execution_count": 13,
   "metadata": {},
   "outputs": [
    {
     "name": "stdout",
     "output_type": "stream",
     "text": [
      "Top 5 hosts with the highest total price are:\n",
      "Host ID: 219517861\n",
      "Host Name: Sonder (NYC)\n",
      "Total Price: 82795\n",
      "------------------------\n",
      "Host ID: 107434423\n",
      "Host Name: Blueground\n",
      "Total Price: 70331\n",
      "------------------------\n",
      "Host ID: 156158778\n",
      "Host Name: Sally\n",
      "Total Price: 37097\n",
      "------------------------\n",
      "Host ID: 205031545\n",
      "Host Name: Red Awning\n",
      "Total Price: 35294\n",
      "------------------------\n",
      "Host ID: 30283594\n",
      "Host Name: Kara\n",
      "Total Price: 33581\n",
      "------------------------\n"
     ]
    }
   ],
   "source": [
    "#Which top 5 hosts have the highest total price?\n",
    "air_bnb = pd.read_csv('../Downloads/AB_NYC_2019.csv', sep=',')\n",
    "\n",
    "host_total_prices = air_bnb.groupby('host_id')['price'].sum()\n",
    "\n",
    "top_5_hosts = host_total_prices.nlargest(5)\n",
    "\n",
    "print(\"Top 5 hosts with the highest total price are:\")\n",
    "for host_id, total_price in top_5_hosts.items():\n",
    "    host_info = air_bnb[air_bnb['host_id'] == host_id].iloc[0]\n",
    "    print(\"Host ID:\", host_id)\n",
    "    print(\"Host Name:\", host_info['host_name'])\n",
    "    print(\"Total Price:\", total_price)\n",
    "    print(\"------------------------\")\n"
   ]
  },
  {
   "cell_type": "code",
   "execution_count": 14,
   "metadata": {},
   "outputs": [
    {
     "name": "stdout",
     "output_type": "stream",
     "text": [
      "Hosts with no availability and review count of 100 or more:\n",
      "         host_id   host_name  availability_365  number_of_reviews\n",
      "8           7490   MaryEllen                 0                118\n",
      "94         79402  Christiana                 0                168\n",
      "132       129352         Sol                 0                193\n",
      "174       193722       Coral                 0                114\n",
      "180        67778        Doug                 0                206\n",
      "...          ...         ...               ...                ...\n",
      "29581  127740507    Kathleen                 0                103\n",
      "30461  176185168       Janet                 0                119\n",
      "31250   21074914      Albert                 0                102\n",
      "32670   40119874    Stephany                 0                131\n",
      "35014  209549523     Mariluz                 0                112\n",
      "\n",
      "[162 rows x 4 columns]\n"
     ]
    }
   ],
   "source": [
    "# Who currently has no (zero) availability with a review count of 100 or more?\n",
    "air_bnb = pd.read_csv('../Downloads/AB_NYC_2019.csv', sep=',')\n",
    "\n",
    "\n",
    "hosts_with_zero_availability = air_bnb[(air_bnb['availability_365'] == 0) & (air_bnb['number_of_reviews'] >= 100)]\n",
    "\n",
    "print(\"Hosts with no availability and review count of 100 or more:\")\n",
    "print(hosts_with_zero_availability[['host_id', 'host_name', 'availability_365', 'number_of_reviews']])"
   ]
  },
  {
   "cell_type": "code",
   "execution_count": 21,
   "metadata": {},
   "outputs": [
    {
     "name": "stdout",
     "output_type": "stream",
     "text": [
      "Host with the highest total prices is:\n",
      "Host ID: 219517861\n",
      "Host Name: Sonder (NYC)\n",
      "Neighbourhood Group: Manhattan\n",
      "Neighbourhood: Financial District\n"
     ]
    }
   ],
   "source": [
    "# What host has the highest total of prices and where are they located?\n",
    "air_bnb = pd.read_csv('../Downloads/AB_NYC_2019.csv', sep=',')\n",
    "\n",
    "host_total_prices = air_bnb.groupby('host_id')['price'].sum()\n",
    "\n",
    "highest_total_price_host_id = host_total_prices.idxmax()\n",
    "\n",
    "highest_total_price_host_info = air_bnb.loc[air_bnb['host_id'] == highest_total_price_host_id, ['host_id', 'host_name', 'neighbourhood_group', 'neighbourhood']].iloc[0]\n",
    "\n",
    "print(\"Host with the highest total prices is:\")\n",
    "print(\"Host ID:\", highest_total_price_host_info['host_id'])\n",
    "print(\"Host Name:\", highest_total_price_host_info['host_name'])\n",
    "print(\"Neighbourhood Group:\", highest_total_price_host_info['neighbourhood_group'])\n",
    "print(\"Neighbourhood:\", highest_total_price_host_info['neighbourhood'])"
   ]
  },
  {
   "cell_type": "code",
   "execution_count": 17,
   "metadata": {},
   "outputs": [
    {
     "name": "stdout",
     "output_type": "stream",
     "text": [
      "The latest review date for Danielle from Queens is: 2019-07-08 00:00:00\n"
     ]
    }
   ],
   "source": [
    "# When did Danielle from Queens last receive a review?\n",
    "air_bnb = pd.read_csv('../Downloads/AB_NYC_2019.csv', sep=',')\n",
    "\n",
    "air_bnb['last_review'] = pd.to_datetime(air_bnb['last_review'])\n",
    "\n",
    "danielle_queens_listings = air_bnb[(air_bnb['host_name'] == 'Danielle') & (air_bnb['neighbourhood_group'] == 'Queens')]\n",
    "\n",
    "latest_review_date = danielle_queens_listings['last_review'].max()\n",
    "\n",
    "\n",
    "print(\"The latest review date for Danielle from Queens is:\", latest_review_date)"
   ]
  },
  {
   "cell_type": "markdown",
   "metadata": {},
   "source": [
    "## Further Questions\n",
    "\n",
    "1. Which host has the most listings?"
   ]
  },
  {
   "cell_type": "code",
   "execution_count": 18,
   "metadata": {},
   "outputs": [
    {
     "name": "stdout",
     "output_type": "stream",
     "text": [
      "Host with the most listings is:\n",
      "Host ID: 219517861\n",
      "Host Name: Sonder (NYC)\n",
      "Number of Listings: 327\n"
     ]
    }
   ],
   "source": [
    "air_bnb = pd.read_csv('../Downloads/AB_NYC_2019.csv', sep=',')\n",
    "\n",
    "host_listing_counts = air_bnb['host_id'].value_counts()\n",
    "\n",
    "most_listings_host_id = host_listing_counts.idxmax()\n",
    "most_listings_count = host_listing_counts.max()\n",
    "\n",
    "most_listings_host_info = air_bnb[air_bnb['host_id'] == most_listings_host_id].iloc[0]\n",
    "\n",
    "\n",
    "print(\"Host with the most listings is:\")\n",
    "print(\"Host ID:\", most_listings_host_id)\n",
    "print(\"Host Name:\", most_listings_host_info['host_name'])\n",
    "print(\"Number of Listings:\", most_listings_count)"
   ]
  },
  {
   "cell_type": "markdown",
   "metadata": {},
   "source": [
    "2. How many listings have completely open availability?"
   ]
  },
  {
   "cell_type": "code",
   "execution_count": 19,
   "metadata": {},
   "outputs": [
    {
     "name": "stdout",
     "output_type": "stream",
     "text": [
      "Number of listings with completely open availability (365 days a year): 1295\n"
     ]
    }
   ],
   "source": [
    "air_bnb = pd.read_csv('../Downloads/AB_NYC_2019.csv', sep=',')\n",
    "\n",
    "open_availability_listings = air_bnb[air_bnb['availability_365'] == 365]\n",
    "\n",
    "num_open_availability_listings = open_availability_listings.shape[0]\n",
    "\n",
    "print(\"Number of listings with completely open availability (365 days a year):\", num_open_availability_listings)"
   ]
  },
  {
   "cell_type": "markdown",
   "metadata": {},
   "source": [
    "3. What room_types have the highest review numbers?"
   ]
  },
  {
   "cell_type": "code",
   "execution_count": 20,
   "metadata": {},
   "outputs": [
    {
     "name": "stdout",
     "output_type": "stream",
     "text": [
      "Room type(s) with the highest review numbers:\n",
      "room_type\n",
      "Entire home/apt    580403\n",
      "Name: number_of_reviews, dtype: int64\n"
     ]
    }
   ],
   "source": [
    "air_bnb = pd.read_csv('../Downloads/AB_NYC_2019.csv', sep=',')\n",
    "\n",
    "room_type_reviews = air_bnb.groupby('room_type')['number_of_reviews'].sum()\n",
    "\n",
    "max_review_room_types = room_type_reviews[room_type_reviews == room_type_reviews.max()]\n",
    "\n",
    "print(\"Room type(s) with the highest review numbers:\")\n",
    "print(max_review_room_types)"
   ]
  },
  {
   "cell_type": "markdown",
   "metadata": {},
   "source": [
    "# Final Conclusion\n",
    "\n",
    "In this cell, write your final conclusion for each of the questions asked.\n",
    "\n",
    "Also, if you uncovered some more details that were not asked above, please discribe them here.\n",
    "\n",
    "-- Add your conclusion --"
   ]
  },
  {
   "cell_type": "code",
   "execution_count": null,
   "metadata": {},
   "outputs": [],
   "source": [
    "1.) How many neighbourhood groups are available and which shows up the most?\n",
    "-Conclusion:The number of neighbourhood groups is 5 and the neighbourhood group that shows up the most is Manhattan.\n",
    "    \n",
    "2.) Are private rooms the most popular in manhattan?\n",
    "-Conclusion: Private rooms are not the most popular in Manhattan, it appears that entire homes/apartments are the most popular.\n",
    "\n",
    "3.) Which hosts are the busiest and based on their reviews?\n",
    "- Conclusion: The busiest host is Maya, the host ID is 37312959 and the total number of reviews is 2273.\n",
    "    \n",
    "4.) Which neighorhood group has the highest average price?\n",
    "- Conclusion:The neighborhood group with the highest average price is Manhattan with the average price in this group being \n",
    "196.8758136743456.\n",
    "    \n",
    "5.)Which neighbor hood group has the highest total price?\n",
    "-Conclusion: the neighborhood group with the highest total price is Manhattan, the total price in this group is 4264527\n",
    "\n",
    "6.)Which top 5 hosts have the highest total price?\n",
    "-Conclusion: The top 5 hosts with the highest total price are: Sonder (NYC) with a total price of $82,795, \n",
    "Blueground with a total price of $70,331, Sally with a total price of $37,097, Red Awning with a total price of $35,294, \n",
    "and Kara with a total price of $33,581\n",
    "    \n",
    "7.)Who currently has no (zero) availability with a review count of 100 or more?\n",
    "-Conclusion: The hosts with zero availability  with a review count of 100 or more are: MaryEllen with 118 reviews,\n",
    "Christiana with 168 reviews, Sol with 193 reviews, Coral with 114 rewiews, Doug with 206 reviews, Kathleen with 103 reviews,\n",
    "Janet with 119 reviews, Albert with 102 reviews, Stephany with 131 reviews, and Mariluz with 112 reviews.\n",
    "    \n",
    "8.)What host has the highest total of prices and where are they located?\n",
    "-Conclusion: The host with the highest total prices is Sonder (NYC), located in the neighbourhood group Manhattan \n",
    "and in the Financial District neighbourhood.\n",
    "\n",
    "9.)When did Danielle from Queens last receive a review?\n",
    "-Conclusion: The last review for Danielle from Queens was 2019-07-08.\n",
    "    \n",
    "10.)Which host has the most listings?\n",
    "-Conclusion: The host with the most listings is: Sonder (NYC), with a total number of listings of 327.\n",
    "\n",
    "11.)How many listings have completely open availability?\n",
    "-Conclusion: The number of listings with completely open availability 365 days a year is 1,295\n",
    "    \n",
    "12.)What room_types have the highest review numbers?\n",
    "-Conclusion: The room types with the highest reviews are Entire home/apt with the number of reviews being 580,403."
   ]
  }
 ],
 "metadata": {
  "kernelspec": {
   "display_name": "Python 3 (ipykernel)",
   "language": "python",
   "name": "python3"
  },
  "language_info": {
   "codemirror_mode": {
    "name": "ipython",
    "version": 3
   },
   "file_extension": ".py",
   "mimetype": "text/x-python",
   "name": "python",
   "nbconvert_exporter": "python",
   "pygments_lexer": "ipython3",
   "version": "3.11.5"
  }
 },
 "nbformat": 4,
 "nbformat_minor": 2
}
